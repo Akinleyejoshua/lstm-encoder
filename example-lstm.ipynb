{
 "cells": [
  {
   "cell_type": "code",
   "execution_count": 2,
   "metadata": {},
   "outputs": [
    {
     "name": "stdout",
     "output_type": "stream",
     "text": [
      "\n"
     ]
    }
   ],
   "source": [
    "import os\n",
    "os.environ[\"TF_CPP_MIN_LOG_LEVEL\"] = \"2\"\n",
    "\n",
    "import numpy as np\n",
    "import matplotlib.pyplot as plt\n",
    "import tensorflow as tf\n",
    "from tensorflow.keras.layers import Input, Dense, Conv2D, Activation, MaxPool2D, LSTM\n",
    "from tensorflow.keras.layers import BatchNormalization, Flatten, Reshape, Conv2DTranspose, LeakyReLU\n",
    "from tensorflow.keras.models import Model\n",
    "from tensorflow.keras.optimizers import Adam, SGD\n",
    "from keras.layers import LSTM\n",
    "from keras.layers import Dense\n",
    "from keras.models import Sequential\n",
    "print(\"\")"
   ]
  },
  {
   "cell_type": "code",
   "execution_count": 19,
   "metadata": {},
   "outputs": [],
   "source": [
    "## Seeding\n",
    "np.random.seed(42)\n",
    "tf.random.set_seed(42)\n",
    "\n",
    "## Loading the dataset and then normalizing the images.\n",
    "dataset = tf.keras.datasets.fashion_mnist\n",
    "(x_train, y_train),(x_test, y_test) = dataset.load_data()\n",
    "x_train, x_test = x_train / 255.0, x_test / 255.0\n",
    "\n",
    "## Hyperparameters\n",
    "H = 28\n",
    "W = 28\n",
    "C = 1\n",
    "\n",
    "## Latent space\n",
    "latent_dim = 128"
   ]
  },
  {
   "cell_type": "code",
   "execution_count": 16,
   "metadata": {},
   "outputs": [],
   "source": [
    "# ## Building the autoencoder\n",
    "# inputs = Input(shape=(H, W, C), name=\"inputs\")\n",
    "# x = inputs\n",
    "\n",
    "# x = Conv2D(32, (3, 3), padding=\"same\")(x)\n",
    "# x = BatchNormalization()(x)\n",
    "# x = LeakyReLU(alpha=0.2)(x)\n",
    "# x = MaxPool2D((2, 2))(x)\n",
    "\n",
    "# x = Conv2D(64, (3, 3), padding=\"same\")(x)\n",
    "# x = BatchNormalization()(x)\n",
    "# x = LeakyReLU(alpha=0.2)(x)\n",
    "# x = MaxPool2D((2, 2))(x)\n",
    "\n",
    "# x = Flatten()(x)\n",
    "# units = x.shape[1]\n",
    "# x = Dense(latent_dim, name=\"latent\")(x)\n",
    "# x = Dense(units)(x)\n",
    "# x = LeakyReLU(alpha=0.2)(x)\n",
    "# x = Reshape((7, 7, 64))(x)\n",
    "\n",
    "# x = Conv2DTranspose(64, (3, 3), strides=2, padding=\"same\")(x)\n",
    "# x = BatchNormalization()(x)\n",
    "# x = LeakyReLU(alpha=0.2)(x)\n",
    "\n",
    "# x = Conv2DTranspose(1, (3, 3), strides=2, padding=\"same\")(x)\n",
    "# x = BatchNormalization()(x)\n",
    "# x = Activation(\"sigmoid\", name=\"outputs\")(x)\n",
    "\n",
    "# outputs = x\n",
    "# timesteps = 3\n",
    "\n",
    "# n_features = 2\n",
    "# print(x_train.shape, x_test.shape)\n"
   ]
  },
  {
   "cell_type": "code",
   "execution_count": 17,
   "metadata": {},
   "outputs": [],
   "source": [
    "# ## Building the autoencoder\n",
    "# inputs = Input(shape=(H, W, C), name=\"inputs\")\n",
    "# x = inputs\n",
    "\n",
    "# x = Conv2D(32, (3, 3), padding=\"same\")(x)\n",
    "# x = BatchNormalization()(x)\n",
    "# x = LeakyReLU(alpha=0.2)(x)\n",
    "# x = MaxPool2D((2, 2))(x)\n",
    "\n",
    "# x = Conv2D(64, (3, 3), padding=\"same\")(x)\n",
    "# x = BatchNormalization()(x)\n",
    "# x = LeakyReLU(alpha=0.2)(x)\n",
    "# x = MaxPool2D((2, 2))(x)\n",
    "\n",
    "# x = Flatten()(x)\n",
    "# units = x.shape[1]\n",
    "# x = Dense(latent_dim, name=\"latent\")(x)\n",
    "# x = Dense(units)(x)\n",
    "# x = LeakyReLU(alpha=0.2)(x)\n",
    "# x = Reshape((7, 7, 64))(x)\n",
    "\n",
    "# x = Conv2DTranspose(64, (3, 3), strides=2, padding=\"same\")(x)\n",
    "# x = BatchNormalization()(x)\n",
    "# x = LeakyReLU(alpha=0.2)(x)\n",
    "\n",
    "# x = Conv2DTranspose(1, (3, 3), strides=2, padding=\"same\")(x)\n",
    "# x = BatchNormalization()(x)\n",
    "# x = Activation(\"sigmoid\", name=\"outputs\")(x)\n",
    "\n",
    "# outputs = x\n",
    "# timesteps = 3\n",
    "\n",
    "# n_features = 2\n",
    "# print(x_train.shape, x_test.shape)\n"
   ]
  },
  {
   "cell_type": "code",
   "execution_count": 25,
   "metadata": {},
   "outputs": [
    {
     "name": "stdout",
     "output_type": "stream",
     "text": [
      "Model: \"sequential_7\"\n",
      "_________________________________________________________________\n",
      " Layer (type)                Output Shape              Param #   \n",
      "=================================================================\n",
      " lstm_58 (LSTM)              (None, 28, 28)            6384      \n",
      "                                                                 \n",
      " latent (Dense)              (None, 28, 128)           3712      \n",
      "                                                                 \n",
      " lstm_59 (LSTM)              (None, 28, 28)            17584     \n",
      "                                                                 \n",
      " lstm_60 (LSTM)              (None, 28, 28)            6384      \n",
      "                                                                 \n",
      " lstm_61 (LSTM)              (None, 28, 28)            6384      \n",
      "                                                                 \n",
      " lstm_62 (LSTM)              (None, 28, 28)            6384      \n",
      "                                                                 \n",
      " lstm_63 (LSTM)              (None, 28, 28)            6384      \n",
      "                                                                 \n",
      " lstm_64 (LSTM)              (None, 28, 28)            6384      \n",
      "                                                                 \n",
      " lstm_65 (LSTM)              (None, 28, 28)            6384      \n",
      "                                                                 \n",
      " lstm_66 (LSTM)              (None, 28, 28)            6384      \n",
      "                                                                 \n",
      " lstm_67 (LSTM)              (None, 28, 28)            6384      \n",
      "                                                                 \n",
      "=================================================================\n",
      "Total params: 78,752\n",
      "Trainable params: 78,752\n",
      "Non-trainable params: 0\n",
      "_________________________________________________________________\n"
     ]
    }
   ],
   "source": [
    "model = Sequential()\n",
    "model.add(LSTM(28, activation='relu', input_shape=(28, 28), return_sequences=True))\n",
    "model.add(Dense(latent_dim, name=\"latent\"))\n",
    "model.add(LSTM(28, activation='relu', input_shape=(28, 28), return_sequences=True))\n",
    "\n",
    "model.add(LSTM(28, activation='relu', input_shape=(28, 28), return_sequences=True))\n",
    "model.add(LSTM(28, activation='relu', input_shape=(28, 28), return_sequences=True))\n",
    "\n",
    "\n",
    "model.add(LSTM(28, activation='relu', input_shape=(28, 28), return_sequences=True))\n",
    "model.add(LSTM(28, activation='relu', input_shape=(28, 28), return_sequences=True))\n",
    "\n",
    "model.add(LSTM(28, activation='relu', input_shape=(28, 28), return_sequences=True))\n",
    "model.add(LSTM(28, activation='relu', input_shape=(28, 28), return_sequences=True))\n",
    "\n",
    "model.add(LSTM(28, activation='relu', input_shape=(28, 28), return_sequences=True))\n",
    "model.add(LSTM(28, activation='relu', input_shape=(28, 28), return_sequences=True))\n",
    "\n",
    "model.compile(optimizer='adam', loss='mse')\n",
    "model.summary()"
   ]
  },
  {
   "cell_type": "code",
   "execution_count": 26,
   "metadata": {},
   "outputs": [
    {
     "name": "stdout",
     "output_type": "stream",
     "text": [
      "Epoch 1/10\n",
      "600/600 [==============================] - ETA: 0s - loss: 0.0865"
     ]
    }
   ],
   "source": [
    "model.fit(\n",
    "    x_train,\n",
    "    x_train,\n",
    "    epochs=10,\n",
    "    batch_size=100,\n",
    "    shuffle=False,\n",
    "    validation_data=(x_test, x_test)\n",
    ")\n",
    "\n",
    "test_pred_y = model.predict(x_test)"
   ]
  },
  {
   "cell_type": "code",
   "execution_count": 22,
   "metadata": {},
   "outputs": [
    {
     "data": {
      "image/png": "[encoded data removed]",
      "text/plain": [
       "<Figure size 1440x288 with 22 Axes>"
      ]
     },
     "metadata": {
      "needs_background": "light"
     },
     "output_type": "display_data"
    }
   ],
   "source": [
    "n = 11  ## how many digits we will display\n",
    "plt.figure(figsize=(20, 4))\n",
    "for i in range(n):\n",
    "    ## display original\n",
    "    ax = plt.subplot(2, n, i + 1)\n",
    "    ax.set_title(\"Original Image\")\n",
    "    plt.imshow(x_test[i].reshape(H, W))\n",
    "    plt.gray()\n",
    "    ax.get_xaxis().set_visible(False)\n",
    "    ax.get_yaxis().set_visible(False)\n",
    "\n",
    "    ## display reconstruction\n",
    "    ax = plt.subplot(2, n, i + 1 + n)\n",
    "    ax.set_title(\"Predicted Image\")\n",
    "    plt.imshow(test_pred_y[i].reshape(H, W))\n",
    "    plt.gray()\n",
    "    ax.get_xaxis().set_visible(False)\n",
    "    ax.get_yaxis().set_visible(False)\n",
    "plt.savefig(\"results/convolutonal_autoencoder.png\")"
   ]
  },
  {
   "cell_type": "code",
   "execution_count": null,
   "metadata": {},
   "outputs": [],
   "source": []
  }
 ],
 "metadata": {
  "interpreter": {
   "hash": "7c6fc63dab57a033f80efbf599cd7ee56712cc29ce11d37edab9656b477af9f4"
  },
  "kernelspec": {
   "display_name": "Python 3.9.7 64-bit (system)",
   "language": "python",
   "name": "python3"
  },
  "language_info": {
   "codemirror_mode": {
    "name": "ipython",
    "version": 3
   },
   "file_extension": ".py",
   "mimetype": "text/x-python",
   "name": "python",
   "nbconvert_exporter": "python",
   "pygments_lexer": "ipython3",
   "version": "3.9.5"
  },
  "orig_nbformat": 4
 },
 "nbformat": 4,
 "nbformat_minor": 2
}
